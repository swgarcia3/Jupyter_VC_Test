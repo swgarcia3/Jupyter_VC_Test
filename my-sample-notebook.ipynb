{
 "cells": [
  {
   "cell_type": "code",
   "execution_count": 3,
   "id": "ed4808d5-6e53-46bc-9e0e-497ed6f6432f",
   "metadata": {},
   "outputs": [],
   "source": [
    "name = \"Swan\""
   ]
  },
  {
   "cell_type": "code",
   "execution_count": 4,
   "id": "3c948921-cc3a-47a4-8184-adb14ac01511",
   "metadata": {},
   "outputs": [
    {
     "name": "stdout",
     "output_type": "stream",
     "text": [
      "Hello! My name is Swan and this is my Juypter Notebook\n"
     ]
    }
   ],
   "source": [
    "print(f\"Hello! My name is {name} and this is my Juypter Notebook\")"
   ]
  },
  {
   "cell_type": "code",
   "execution_count": null,
   "id": "5e7b8634-9f4d-470e-9784-027ebf9830bc",
   "metadata": {},
   "outputs": [],
   "source": []
  }
 ],
 "metadata": {
  "kernelspec": {
   "display_name": "Python 3 (ipykernel)",
   "language": "python",
   "name": "python3"
  },
  "language_info": {
   "codemirror_mode": {
    "name": "ipython",
    "version": 3
   },
   "file_extension": ".py",
   "mimetype": "text/x-python",
   "name": "python",
   "nbconvert_exporter": "python",
   "pygments_lexer": "ipython3",
   "version": "3.11.7"
  }
 },
 "nbformat": 4,
 "nbformat_minor": 5
}
