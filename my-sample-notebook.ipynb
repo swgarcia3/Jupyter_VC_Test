{
 "cells": [
  {
   "cell_type": "code",
   "execution_count": 1,
   "id": "ed4808d5-6e53-46bc-9e0e-497ed6f6432f",
   "metadata": {},
   "outputs": [],
   "source": [
    "name = \"Swan Garcia\""
   ]
  },
  {
   "cell_type": "code",
   "execution_count": null,
   "id": "3c948921-cc3a-47a4-8184-adb14ac01511",
   "metadata": {},
   "outputs": [],
   "source": [
    "print(f\"Hello! My name is {name} and this is my Juypter Notebook\")"
   ]
  },
  {
   "cell_type": "code",
   "execution_count": null,
   "id": "320ff746-4d2f-4bfb-b597-f4e28c2acb52",
   "metadata": {},
   "outputs": [],
   "source": []
  }
 ],
 "metadata": {
  "kernelspec": {
   "display_name": "Python 3 (ipykernel)",
   "language": "python",
   "name": "python3"
  },
  "language_info": {
   "codemirror_mode": {
    "name": "ipython",
    "version": 3
   },
   "file_extension": ".py",
   "mimetype": "text/x-python",
   "name": "python",
   "nbconvert_exporter": "python",
   "pygments_lexer": "ipython3",
   "version": "3.11.7"
  }
 },
 "nbformat": 4,
 "nbformat_minor": 5
}
